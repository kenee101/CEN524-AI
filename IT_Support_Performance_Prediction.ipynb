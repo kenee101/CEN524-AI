{
 "cells": [
  {
   "cell_type": "markdown",
   "id": "0fed0c8c",
   "metadata": {},
   "source": [
    "# IT Support Performance Prediction\n",
    "This notebook uses datadet based on IT Support metrics to predict employee performance using linear regression."
   ]
  },
  {
   "cell_type": "code",
   "execution_count": null,
   "id": "1d35abf7",
   "metadata": {},
   "outputs": [],
   "source": [
    "import pandas as pd\n",
    "import numpy as np\n",
    "import matplotlib.pyplot as plt\n",
    "from sklearn.model_selection import train_test_split\n",
    "from sklearn.metrics import mean_squared_error, r2_score\n",
    "\n",
    "# Load synthetic dataset\n",
    "df = pd.read_csv(\"synthetic_it_support_data.csv\")\n",
    "df.head()"
   ]
  },
  {
   "cell_type": "code",
   "execution_count": null,
   "id": "f49edf5c",
   "metadata": {},
   "outputs": [],
   "source": [
    "# Select features and target\n",
    "X = df[[\"avg_response_time\", \"num_tickets\"]].values\n",
    "y = df[\"performance_score\"].values.reshape(-1, 1)\n",
    "\n",
    "# Min-max normalization\n",
    "X_min = X.min(axis=0)\n",
    "X_max = X.max(axis=0)\n",
    "X_norm = (X - X_min) / (X_max - X_min)\n",
    "\n",
    "# Add bias term\n",
    "X_design = np.hstack([np.ones((X_norm.shape[0], 1)), X_norm])\n",
    "\n",
    "# Save normalized matrix\n",
    "normalized_df = pd.DataFrame(X_design, columns=[\"bias\", \"avg_response_time\", \"num_tickets\"])\n",
    "normalized_df.to_csv(\"normalized_matrix.csv\", index=False)\n",
    "normalized_df.head()"
   ]
  },
  {
   "cell_type": "code",
   "execution_count": null,
   "id": "ea74ca48",
   "metadata": {},
   "outputs": [],
   "source": [
    "# Split data\n",
    "X_train, X_test, y_train, y_test = train_test_split(X_design, y, test_size=0.2, random_state=42)\n",
    "\n",
    "# Initialize parameters\n",
    "theta = np.zeros((X_train.shape[1], 1))\n",
    "alpha = 0.1\n",
    "iterations = 500\n",
    "m = len(y_train)\n",
    "cost_history = []"
   ]
  },
  {
   "cell_type": "code",
   "execution_count": null,
   "id": "421e3f17",
   "metadata": {},
   "outputs": [],
   "source": [
    "# Gradient Descent\n",
    "for i in range(iterations):\n",
    "    predictions = X_train.dot(theta)\n",
    "    errors = predictions - y_train\n",
    "    cost = (1/(2*m)) * np.sum(errors ** 2)\n",
    "    cost_history.append(cost)\n",
    "    gradient = (1/m) * X_train.T.dot(errors)\n",
    "    theta -= alpha * gradient\n",
    "\n",
    "# Plot cost over iterations\n",
    "plt.plot(range(iterations), cost_history)\n",
    "plt.xlabel(\"Iterations\")\n",
    "plt.ylabel(\"Cost (MSE)\")\n",
    "plt.title(\"Gradient Descent Convergence\")\n",
    "plt.grid(True)\n",
    "plt.show()"
   ]
  },
  {
   "cell_type": "code",
   "execution_count": null,
   "id": "016fc3a7",
   "metadata": {},
   "outputs": [],
   "source": [
    "# Test model\n",
    "y_pred = X_test.dot(theta)\n",
    "mse = mean_squared_error(y_test, y_pred)\n",
    "r2 = r2_score(y_test, y_pred)\n",
    "\n",
    "print(f\"Test MSE: {mse:.2f}\")\n",
    "print(f\"Test R² Score: {r2:.2f}\")"
   ]
  }
 ],
 "metadata": {
  "language_info": {
   "name": "python"
  }
 },
 "nbformat": 4,
 "nbformat_minor": 5
}
